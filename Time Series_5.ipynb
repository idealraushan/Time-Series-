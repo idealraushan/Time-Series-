{
 "cells": [
  {
   "cell_type": "markdown",
   "id": "0f47ce1d",
   "metadata": {},
   "source": [
    "# Raushan Kumar\n",
    "## Enroll no. 2021MSBDA033\n",
    "## Sub :- Time Series (Assignment : 5)"
   ]
  },
  {
   "cell_type": "markdown",
   "id": "db5ec89d",
   "metadata": {},
   "source": [
    "Calculate the forecasted values with alpha = 0.5 and alpha = 0.9 from the period 2-12"
   ]
  },
  {
   "cell_type": "markdown",
   "id": "c8f99eaa",
   "metadata": {},
   "source": [
    "Compare the performance of alpha = 0.1 , alpha = 0.5 and alpha = 0.9 using the metrics as :-"
   ]
  },
  {
   "cell_type": "code",
   "execution_count": 17,
   "id": "85ff9ce2",
   "metadata": {},
   "outputs": [],
   "source": [
    "import numpy as np\n",
    "import pandas as pd"
   ]
  },
  {
   "cell_type": "code",
   "execution_count": 31,
   "id": "8a5a860b",
   "metadata": {},
   "outputs": [
    {
     "data": {
      "text/html": [
       "<div>\n",
       "<style scoped>\n",
       "    .dataframe tbody tr th:only-of-type {\n",
       "        vertical-align: middle;\n",
       "    }\n",
       "\n",
       "    .dataframe tbody tr th {\n",
       "        vertical-align: top;\n",
       "    }\n",
       "\n",
       "    .dataframe thead th {\n",
       "        text-align: right;\n",
       "    }\n",
       "</style>\n",
       "<table border=\"1\" class=\"dataframe\">\n",
       "  <thead>\n",
       "    <tr style=\"text-align: right;\">\n",
       "      <th></th>\n",
       "      <th>Month</th>\n",
       "      <th>Sales</th>\n",
       "    </tr>\n",
       "  </thead>\n",
       "  <tbody>\n",
       "    <tr>\n",
       "      <th>0</th>\n",
       "      <td>JAN</td>\n",
       "      <td>200</td>\n",
       "    </tr>\n",
       "    <tr>\n",
       "      <th>1</th>\n",
       "      <td>FEB</td>\n",
       "      <td>135</td>\n",
       "    </tr>\n",
       "    <tr>\n",
       "      <th>2</th>\n",
       "      <td>MAR</td>\n",
       "      <td>195</td>\n",
       "    </tr>\n",
       "    <tr>\n",
       "      <th>3</th>\n",
       "      <td>APR</td>\n",
       "      <td>197</td>\n",
       "    </tr>\n",
       "    <tr>\n",
       "      <th>4</th>\n",
       "      <td>MAy</td>\n",
       "      <td>310</td>\n",
       "    </tr>\n",
       "    <tr>\n",
       "      <th>5</th>\n",
       "      <td>JUN</td>\n",
       "      <td>175</td>\n",
       "    </tr>\n",
       "    <tr>\n",
       "      <th>6</th>\n",
       "      <td>JUL</td>\n",
       "      <td>155</td>\n",
       "    </tr>\n",
       "    <tr>\n",
       "      <th>7</th>\n",
       "      <td>AUG</td>\n",
       "      <td>130</td>\n",
       "    </tr>\n",
       "    <tr>\n",
       "      <th>8</th>\n",
       "      <td>SEP</td>\n",
       "      <td>220</td>\n",
       "    </tr>\n",
       "    <tr>\n",
       "      <th>9</th>\n",
       "      <td>OCT</td>\n",
       "      <td>277</td>\n",
       "    </tr>\n",
       "    <tr>\n",
       "      <th>10</th>\n",
       "      <td>NOV</td>\n",
       "      <td>235</td>\n",
       "    </tr>\n",
       "    <tr>\n",
       "      <th>11</th>\n",
       "      <td>DEC</td>\n",
       "      <td>0</td>\n",
       "    </tr>\n",
       "  </tbody>\n",
       "</table>\n",
       "</div>"
      ],
      "text/plain": [
       "   Month  Sales\n",
       "0    JAN    200\n",
       "1    FEB    135\n",
       "2    MAR    195\n",
       "3    APR    197\n",
       "4    MAy    310\n",
       "5    JUN    175\n",
       "6    JUL    155\n",
       "7    AUG    130\n",
       "8    SEP    220\n",
       "9    OCT    277\n",
       "10   NOV    235\n",
       "11   DEC      0"
      ]
     },
     "execution_count": 31,
     "metadata": {},
     "output_type": "execute_result"
    }
   ],
   "source": [
    "X = [\"JAN\",\"FEB\",\"MAR\",\"APR\",\"MAy\",\"JUN\",\"JUL\",\"AUG\",\"SEP\",\"OCT\",\"NOV\",\"DEC\"]\n",
    "Y = [200, 135, 195, 197, 310, 175, 155, 130, 220, 277, 235, 0]\n",
    "data = pd.DataFrame({\"Month\": X,\"Sales\": Y})\n",
    "data"
   ]
  },
  {
   "cell_type": "markdown",
   "id": "4b16ac40",
   "metadata": {},
   "source": [
    "# For alpha = 0.1"
   ]
  },
  {
   "cell_type": "code",
   "execution_count": 33,
   "id": "8b3d77f4",
   "metadata": {},
   "outputs": [],
   "source": [
    "\n",
    "alpha = 0.1\n",
    "expo_arr = []\n",
    "expo_arr.append(0)\n",
    "res = Y[0]\n",
    "for i in range(1, 12):\n",
    "    res = ((alpha * Y[i-1]) + ((1 - alpha) * res))\n",
    "    expo_arr.append(res)\n",
    "data['expo = 0.1'] = expo_arr"
   ]
  },
  {
   "cell_type": "markdown",
   "id": "b4cb7765",
   "metadata": {},
   "source": [
    "# For alpha = 0.5"
   ]
  },
  {
   "cell_type": "code",
   "execution_count": 35,
   "id": "84ef3a9a",
   "metadata": {},
   "outputs": [],
   "source": [
    "\n",
    "alpha = 0.5\n",
    "expo_arr = []\n",
    "\n",
    "expo_arr.append(0)\n",
    "res = Y[0]\n",
    "for i in range(1, 12):\n",
    "    res = ((alpha * Y[i-1]) + ((1 - alpha) * res))\n",
    "    expo_arr.append(res)\n",
    "\n",
    "data['expo = 0.5'] = expo_arr\n"
   ]
  },
  {
   "cell_type": "markdown",
   "id": "c62e989a",
   "metadata": {},
   "source": [
    "# For alpha = 0.9"
   ]
  },
  {
   "cell_type": "code",
   "execution_count": 34,
   "id": "0bdaa625",
   "metadata": {},
   "outputs": [],
   "source": [
    "alpha = 0.9\n",
    "expo_arr = []\n",
    "expo_arr.append(0)\n",
    "res = Y[0]\n",
    "for i in range(1, 12):\n",
    "    res = ((alpha * Y[i-1]) + ((1 - alpha) * res))\n",
    "    expo_arr.append(res)\n",
    "data['expo = 0.9'] = expo_arr"
   ]
  },
  {
   "cell_type": "code",
   "execution_count": 36,
   "id": "58de38a9",
   "metadata": {},
   "outputs": [
    {
     "data": {
      "text/html": [
       "<div>\n",
       "<style scoped>\n",
       "    .dataframe tbody tr th:only-of-type {\n",
       "        vertical-align: middle;\n",
       "    }\n",
       "\n",
       "    .dataframe tbody tr th {\n",
       "        vertical-align: top;\n",
       "    }\n",
       "\n",
       "    .dataframe thead th {\n",
       "        text-align: right;\n",
       "    }\n",
       "</style>\n",
       "<table border=\"1\" class=\"dataframe\">\n",
       "  <thead>\n",
       "    <tr style=\"text-align: right;\">\n",
       "      <th></th>\n",
       "      <th>Month</th>\n",
       "      <th>Sales</th>\n",
       "      <th>expo = 0.1</th>\n",
       "      <th>expo = 0.9</th>\n",
       "      <th>expo = 0.5</th>\n",
       "    </tr>\n",
       "  </thead>\n",
       "  <tbody>\n",
       "    <tr>\n",
       "      <th>0</th>\n",
       "      <td>JAN</td>\n",
       "      <td>200</td>\n",
       "      <td>0.000000</td>\n",
       "      <td>0.000000</td>\n",
       "      <td>0.000000</td>\n",
       "    </tr>\n",
       "    <tr>\n",
       "      <th>1</th>\n",
       "      <td>FEB</td>\n",
       "      <td>135</td>\n",
       "      <td>200.000000</td>\n",
       "      <td>200.000000</td>\n",
       "      <td>200.000000</td>\n",
       "    </tr>\n",
       "    <tr>\n",
       "      <th>2</th>\n",
       "      <td>MAR</td>\n",
       "      <td>195</td>\n",
       "      <td>193.500000</td>\n",
       "      <td>141.500000</td>\n",
       "      <td>167.500000</td>\n",
       "    </tr>\n",
       "    <tr>\n",
       "      <th>3</th>\n",
       "      <td>APR</td>\n",
       "      <td>197</td>\n",
       "      <td>193.650000</td>\n",
       "      <td>189.650000</td>\n",
       "      <td>181.250000</td>\n",
       "    </tr>\n",
       "    <tr>\n",
       "      <th>4</th>\n",
       "      <td>MAy</td>\n",
       "      <td>310</td>\n",
       "      <td>193.985000</td>\n",
       "      <td>196.265000</td>\n",
       "      <td>189.125000</td>\n",
       "    </tr>\n",
       "    <tr>\n",
       "      <th>5</th>\n",
       "      <td>JUN</td>\n",
       "      <td>175</td>\n",
       "      <td>205.586500</td>\n",
       "      <td>298.626500</td>\n",
       "      <td>249.562500</td>\n",
       "    </tr>\n",
       "    <tr>\n",
       "      <th>6</th>\n",
       "      <td>JUL</td>\n",
       "      <td>155</td>\n",
       "      <td>202.527850</td>\n",
       "      <td>187.362650</td>\n",
       "      <td>212.281250</td>\n",
       "    </tr>\n",
       "    <tr>\n",
       "      <th>7</th>\n",
       "      <td>AUG</td>\n",
       "      <td>130</td>\n",
       "      <td>197.775065</td>\n",
       "      <td>158.236265</td>\n",
       "      <td>183.640625</td>\n",
       "    </tr>\n",
       "    <tr>\n",
       "      <th>8</th>\n",
       "      <td>SEP</td>\n",
       "      <td>220</td>\n",
       "      <td>190.997559</td>\n",
       "      <td>132.823626</td>\n",
       "      <td>156.820312</td>\n",
       "    </tr>\n",
       "    <tr>\n",
       "      <th>9</th>\n",
       "      <td>OCT</td>\n",
       "      <td>277</td>\n",
       "      <td>193.897803</td>\n",
       "      <td>211.282363</td>\n",
       "      <td>188.410156</td>\n",
       "    </tr>\n",
       "    <tr>\n",
       "      <th>10</th>\n",
       "      <td>NOV</td>\n",
       "      <td>235</td>\n",
       "      <td>202.208022</td>\n",
       "      <td>270.428236</td>\n",
       "      <td>232.705078</td>\n",
       "    </tr>\n",
       "    <tr>\n",
       "      <th>11</th>\n",
       "      <td>DEC</td>\n",
       "      <td>0</td>\n",
       "      <td>205.487220</td>\n",
       "      <td>238.542824</td>\n",
       "      <td>233.852539</td>\n",
       "    </tr>\n",
       "  </tbody>\n",
       "</table>\n",
       "</div>"
      ],
      "text/plain": [
       "   Month  Sales  expo = 0.1  expo = 0.9  expo = 0.5\n",
       "0    JAN    200    0.000000    0.000000    0.000000\n",
       "1    FEB    135  200.000000  200.000000  200.000000\n",
       "2    MAR    195  193.500000  141.500000  167.500000\n",
       "3    APR    197  193.650000  189.650000  181.250000\n",
       "4    MAy    310  193.985000  196.265000  189.125000\n",
       "5    JUN    175  205.586500  298.626500  249.562500\n",
       "6    JUL    155  202.527850  187.362650  212.281250\n",
       "7    AUG    130  197.775065  158.236265  183.640625\n",
       "8    SEP    220  190.997559  132.823626  156.820312\n",
       "9    OCT    277  193.897803  211.282363  188.410156\n",
       "10   NOV    235  202.208022  270.428236  232.705078\n",
       "11   DEC      0  205.487220  238.542824  233.852539"
      ]
     },
     "execution_count": 36,
     "metadata": {},
     "output_type": "execute_result"
    }
   ],
   "source": [
    "data"
   ]
  },
  {
   "cell_type": "code",
   "execution_count": 37,
   "id": "2901246f",
   "metadata": {},
   "outputs": [],
   "source": [
    "alphas = ['expo = 0.1', 'expo = 0.5', 'expo = 0.9']"
   ]
  },
  {
   "cell_type": "markdown",
   "id": "e4f31de4",
   "metadata": {},
   "source": [
    "## 1. Mean Error"
   ]
  },
  {
   "cell_type": "code",
   "execution_count": 38,
   "id": "82128b16",
   "metadata": {},
   "outputs": [
    {
     "name": "stdout",
     "output_type": "stream",
     "text": [
      "Mean Error of expo = 0.1 is 5.487220146499974\n",
      "Mean Error of expo = 0.5 is 6.7705078125\n",
      "Mean Error of expo = 0.9 is 4.282535958499997\n"
     ]
    }
   ],
   "source": [
    "for i in alphas:\n",
    "    error = []\n",
    "    for j in range(1, 11):\n",
    "        error.append(float(Y[j]) - float(data[i][j]))\n",
    "    print(f\"Mean Error of {i} is {np.sum(error) / 10}\")"
   ]
  },
  {
   "cell_type": "markdown",
   "id": "ad17dbf1",
   "metadata": {},
   "source": [
    "## 2. Mean Absolute Error"
   ]
  },
  {
   "cell_type": "code",
   "execution_count": 39,
   "id": "c240b176",
   "metadata": {},
   "outputs": [
    {
     "name": "stdout",
     "output_type": "stream",
     "text": [
      "Mean Absolute Error of expo = 0.1 is 47.665103146499995\n",
      "Mean Absolute Error of expo = 0.5 is 56.8673828125\n",
      "Mean Absolute Error of expo = 0.9 is 61.2132662115\n"
     ]
    }
   ],
   "source": [
    "for i in alphas:\n",
    "    error = []\n",
    "    for j in range(1, 11):\n",
    "        error.append(abs(float(Y[j]) - float(data[i][j])))\n",
    "    print(f\"Mean Absolute Error of {i} is {np.sum(error) / 10}\")"
   ]
  },
  {
   "cell_type": "markdown",
   "id": "e2466d4e",
   "metadata": {},
   "source": [
    "## 3. Mean absolute percentage error"
   ]
  },
  {
   "cell_type": "code",
   "execution_count": 61,
   "id": "1bebb67f",
   "metadata": {},
   "outputs": [
    {
     "name": "stdout",
     "output_type": "stream",
     "text": [
      "Mean Absolute Percentage Error of expo = 0.1 is 24.545562874620572\n",
      "Mean Absolute Percentage Error of expo = 0.5 is 29.173887416492242\n",
      "Mean Absolute Percentage Error of expo = 0.9 is 30.767301525664173\n"
     ]
    }
   ],
   "source": [
    "for i in alphas:\n",
    "    error = []\n",
    "    for j in range(1, 11):\n",
    "        error.append((abs(float(Y[j]) - float(data[i][j]))) / (float(Y[j])) *100)\n",
    "    print(f\"Mean Absolute Percentage Error of {i} is {np.sum(error) / 10}\")\n"
   ]
  },
  {
   "cell_type": "markdown",
   "id": "66faad73",
   "metadata": {},
   "source": [
    "## 4. Mean squared error"
   ]
  },
  {
   "cell_type": "code",
   "execution_count": 57,
   "id": "e4a24c2f",
   "metadata": {},
   "outputs": [
    {
     "name": "stdout",
     "output_type": "stream",
     "text": [
      "Mean Sqaured Error of expo = 0.1 is 3430.827328188864\n",
      "Mean Sqaured Error of expo = 0.5 is 4340.320277786255\n",
      "Mean Sqaured Error of expo = 0.9 is 5037.874988374901\n"
     ]
    }
   ],
   "source": [
    "for i in alphas:\n",
    "    error = []\n",
    "    for j in range(1, 11):\n",
    "        error.append((float(Y[j]) - float(data[i][j])) ** 2)\n",
    "    print(f\"Mean Sqaured Error of {i} is {np.sum(error) / 10}\")"
   ]
  },
  {
   "cell_type": "markdown",
   "id": "ed85ce54",
   "metadata": {},
   "source": [
    "## 5. Theil's U statistics"
   ]
  },
  {
   "cell_type": "code",
   "execution_count": 58,
   "id": "77834ec8",
   "metadata": {},
   "outputs": [
    {
     "name": "stdout",
     "output_type": "stream",
     "text": [
      "Theil's U of expo = 0.1 is 0.0710223579158177\n",
      "Theil's U of expo = 0.5 is 0.08984998391071672\n",
      "Theil's U of expo = 0.9 is 0.10429022691398225\n"
     ]
    }
   ],
   "source": [
    "for i in alphas:\n",
    "    error = []\n",
    "    for j in range(1, 11):\n",
    "        error.append((float(Y[j]) - float(data[i][j])) ** 2)\n",
    "    print(f\"Theil's U of {i} is {np.sum(error) / np.sum(np.array(Y) ** 2)}\")"
   ]
  },
  {
   "cell_type": "markdown",
   "id": "383ed162",
   "metadata": {},
   "source": [
    "# Thank you"
   ]
  }
 ],
 "metadata": {
  "kernelspec": {
   "display_name": "Python 3 (ipykernel)",
   "language": "python",
   "name": "python3"
  },
  "language_info": {
   "codemirror_mode": {
    "name": "ipython",
    "version": 3
   },
   "file_extension": ".py",
   "mimetype": "text/x-python",
   "name": "python",
   "nbconvert_exporter": "python",
   "pygments_lexer": "ipython3",
   "version": "3.9.12"
  }
 },
 "nbformat": 4,
 "nbformat_minor": 5
}
