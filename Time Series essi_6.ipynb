{
 "cells": [
  {
   "cell_type": "markdown",
   "id": "641ad23f",
   "metadata": {},
   "source": [
    "# Raushan Kumar\n",
    "## Enroll no. 2021MSBDA033\n",
    "## Sub :- Time Series (Assignment : 6)\n"
   ]
  },
  {
   "cell_type": "markdown",
   "id": "d9acec56",
   "metadata": {},
   "source": [
    "### 1. Find the autocorrelation and autocovariance upto 26 lags"
   ]
  },
  {
   "cell_type": "code",
   "execution_count": 6,
   "id": "c161c147",
   "metadata": {},
   "outputs": [],
   "source": [
    "# import libraries\n",
    "    \n",
    "import numpy as np\n",
    "import pandas as pd"
   ]
  },
  {
   "cell_type": "code",
   "execution_count": 7,
   "id": "545e51be",
   "metadata": {
    "scrolled": true
   },
   "outputs": [
    {
     "data": {
      "text/html": [
       "<div>\n",
       "<style scoped>\n",
       "    .dataframe tbody tr th:only-of-type {\n",
       "        vertical-align: middle;\n",
       "    }\n",
       "\n",
       "    .dataframe tbody tr th {\n",
       "        vertical-align: top;\n",
       "    }\n",
       "\n",
       "    .dataframe thead th {\n",
       "        text-align: right;\n",
       "    }\n",
       "</style>\n",
       "<table border=\"1\" class=\"dataframe\">\n",
       "  <thead>\n",
       "    <tr style=\"text-align: right;\">\n",
       "      <th></th>\n",
       "      <th>Price (Y(t))</th>\n",
       "      <th>Y(t-1)</th>\n",
       "      <th>Y(t)-M</th>\n",
       "      <th>Y(t-1)-M</th>\n",
       "      <th>[Y(t)-M]^2</th>\n",
       "      <th>[Y(t)-M]*[Y(t-1)-M]</th>\n",
       "    </tr>\n",
       "    <tr>\n",
       "      <th>Date</th>\n",
       "      <th></th>\n",
       "      <th></th>\n",
       "      <th></th>\n",
       "      <th></th>\n",
       "      <th></th>\n",
       "      <th></th>\n",
       "    </tr>\n",
       "  </thead>\n",
       "  <tbody>\n",
       "    <tr>\n",
       "      <th>2005-02-07 00:00:00</th>\n",
       "      <td>196.030000</td>\n",
       "      <td>NaN</td>\n",
       "      <td>-28.69</td>\n",
       "      <td>NaN</td>\n",
       "      <td>NaN</td>\n",
       "      <td>NaN</td>\n",
       "    </tr>\n",
       "    <tr>\n",
       "      <th>2005-02-08 00:00:00</th>\n",
       "      <td>198.640000</td>\n",
       "      <td>196.03</td>\n",
       "      <td>-26.08</td>\n",
       "      <td>-28.69</td>\n",
       "      <td>680.1664</td>\n",
       "      <td>748.2352</td>\n",
       "    </tr>\n",
       "    <tr>\n",
       "      <th>2005-02-09 00:00:00</th>\n",
       "      <td>191.580000</td>\n",
       "      <td>198.64</td>\n",
       "      <td>-33.14</td>\n",
       "      <td>-26.08</td>\n",
       "      <td>1098.2596</td>\n",
       "      <td>864.2912</td>\n",
       "    </tr>\n",
       "    <tr>\n",
       "      <th>2005-02-10 00:00:00</th>\n",
       "      <td>187.980000</td>\n",
       "      <td>191.58</td>\n",
       "      <td>-36.74</td>\n",
       "      <td>-33.14</td>\n",
       "      <td>1349.8276</td>\n",
       "      <td>1217.5636</td>\n",
       "    </tr>\n",
       "    <tr>\n",
       "      <th>2005-02-11 00:00:00</th>\n",
       "      <td>187.400000</td>\n",
       "      <td>187.98</td>\n",
       "      <td>-37.32</td>\n",
       "      <td>-36.74</td>\n",
       "      <td>1392.7824</td>\n",
       "      <td>1371.1368</td>\n",
       "    </tr>\n",
       "    <tr>\n",
       "      <th>...</th>\n",
       "      <td>...</td>\n",
       "      <td>...</td>\n",
       "      <td>...</td>\n",
       "      <td>...</td>\n",
       "      <td>...</td>\n",
       "      <td>...</td>\n",
       "    </tr>\n",
       "    <tr>\n",
       "      <th>Mean</th>\n",
       "      <td>224.715238</td>\n",
       "      <td>NaN</td>\n",
       "      <td>NaN</td>\n",
       "      <td>NaN</td>\n",
       "      <td>NaN</td>\n",
       "      <td>NaN</td>\n",
       "    </tr>\n",
       "    <tr>\n",
       "      <th>NaN</th>\n",
       "      <td>NaN</td>\n",
       "      <td>NaN</td>\n",
       "      <td>NaN</td>\n",
       "      <td>NaN</td>\n",
       "      <td>NaN</td>\n",
       "      <td>NaN</td>\n",
       "    </tr>\n",
       "    <tr>\n",
       "      <th>NaN</th>\n",
       "      <td>NaN</td>\n",
       "      <td>NaN</td>\n",
       "      <td>NaN</td>\n",
       "      <td>NaN</td>\n",
       "      <td>NaN</td>\n",
       "      <td>NaN</td>\n",
       "    </tr>\n",
       "    <tr>\n",
       "      <th>Autocovariance (lag 1): c1</th>\n",
       "      <td>1776.029878</td>\n",
       "      <td>NaN</td>\n",
       "      <td>NaN</td>\n",
       "      <td>NaN</td>\n",
       "      <td>NaN</td>\n",
       "      <td>NaN</td>\n",
       "    </tr>\n",
       "    <tr>\n",
       "      <th>Autocorelation (lag 1): r1</th>\n",
       "      <td>0.975033</td>\n",
       "      <td>NaN</td>\n",
       "      <td>NaN</td>\n",
       "      <td>NaN</td>\n",
       "      <td>NaN</td>\n",
       "      <td>NaN</td>\n",
       "    </tr>\n",
       "  </tbody>\n",
       "</table>\n",
       "<p>111 rows × 6 columns</p>\n",
       "</div>"
      ],
      "text/plain": [
       "                             Price (Y(t))  Y(t-1)  Y(t)-M  Y(t-1)-M  \\\n",
       "Date                                                                  \n",
       "2005-02-07 00:00:00            196.030000     NaN  -28.69       NaN   \n",
       "2005-02-08 00:00:00            198.640000  196.03  -26.08    -28.69   \n",
       "2005-02-09 00:00:00            191.580000  198.64  -33.14    -26.08   \n",
       "2005-02-10 00:00:00            187.980000  191.58  -36.74    -33.14   \n",
       "2005-02-11 00:00:00            187.400000  187.98  -37.32    -36.74   \n",
       "...                                   ...     ...     ...       ...   \n",
       "Mean                           224.715238     NaN     NaN       NaN   \n",
       "NaN                                   NaN     NaN     NaN       NaN   \n",
       "NaN                                   NaN     NaN     NaN       NaN   \n",
       "Autocovariance (lag 1): c1    1776.029878     NaN     NaN       NaN   \n",
       "Autocorelation (lag 1): r1       0.975033     NaN     NaN       NaN   \n",
       "\n",
       "                            [Y(t)-M]^2  [Y(t)-M]*[Y(t-1)-M]  \n",
       "Date                                                         \n",
       "2005-02-07 00:00:00                NaN                  NaN  \n",
       "2005-02-08 00:00:00           680.1664             748.2352  \n",
       "2005-02-09 00:00:00          1098.2596             864.2912  \n",
       "2005-02-10 00:00:00          1349.8276            1217.5636  \n",
       "2005-02-11 00:00:00          1392.7824            1371.1368  \n",
       "...                                ...                  ...  \n",
       "Mean                               NaN                  NaN  \n",
       "NaN                                NaN                  NaN  \n",
       "NaN                                NaN                  NaN  \n",
       "Autocovariance (lag 1): c1         NaN                  NaN  \n",
       "Autocorelation (lag 1): r1         NaN                  NaN  \n",
       "\n",
       "[111 rows x 6 columns]"
      ]
     },
     "execution_count": 7,
     "metadata": {},
     "output_type": "execute_result"
    }
   ],
   "source": [
    "# import the data set\n",
    "        \n",
    "data =  pd.read_excel(\"D:\\dataset\\Google_Data.xlsx\",index_col=0)\n",
    "data"
   ]
  },
  {
   "cell_type": "code",
   "execution_count": 8,
   "id": "360b6ad1",
   "metadata": {
    "scrolled": true
   },
   "outputs": [],
   "source": [
    "data[' Price (Y(t))']\n",
    "price = []\n",
    "for i in range(0, 105):\n",
    "    price.append(data[' Price (Y(t))'][i])"
   ]
  },
  {
   "cell_type": "code",
   "execution_count": 9,
   "id": "7bd24250",
   "metadata": {},
   "outputs": [
    {
     "name": "stdout",
     "output_type": "stream",
     "text": [
      "Lag:  1 Autocorrelation:  0.9546161784537222 Autocovariance:  1746.3240878220495\n",
      "Lag:  2 Autocorrelation:  0.9097339826840027 Autocovariance:  1664.2189848957998\n",
      "Lag:  3 Autocorrelation:  0.8615598323291747 Autocovariance:  1576.0917552575313\n",
      "Lag:  4 Autocorrelation:  0.8064363034022676 Autocovariance:  1475.2517019004429\n",
      "Lag:  5 Autocorrelation:  0.75629300944605 Autocovariance:  1383.52222564086\n",
      "Lag:  6 Autocorrelation:  0.7098235635885117 Autocovariance:  1298.5134917849045\n",
      "Lag:  7 Autocorrelation:  0.6647188589499574 Autocovariance:  1216.0013429629632\n",
      "Lag:  8 Autocorrelation:  0.6253550836226797 Autocovariance:  1143.9913450253755\n",
      "Lag:  9 Autocorrelation:  0.5835866012309667 Autocovariance:  1067.5823038224817\n",
      "Lag:  10 Autocorrelation:  0.5405831318734894 Autocovariance:  988.9140431184541\n",
      "Lag:  11 Autocorrelation:  0.49413194722066023 Autocovariance:  903.9387153395965\n",
      "Lag:  12 Autocorrelation:  0.4498408856998071 Autocovariance:  822.9150019825074\n",
      "Lag:  13 Autocorrelation:  0.4023309253207546 Autocovariance:  736.0028061764391\n",
      "Lag:  14 Autocorrelation:  0.36502102467835473 Autocovariance:  667.7500573998492\n",
      "Lag:  15 Autocorrelation:  0.3345729975024636 Autocovariance:  612.0500551538714\n",
      "Lag:  16 Autocorrelation:  0.30685869245974345 Autocovariance:  561.3509788489368\n",
      "Lag:  17 Autocorrelation:  0.2873759540205012 Autocovariance:  525.7102928841382\n",
      "Lag:  18 Autocorrelation:  0.2701388935545496 Autocovariance:  494.1777308195663\n",
      "Lag:  19 Autocorrelation:  0.25535699727840455 Autocovariance:  467.136515603067\n",
      "Lag:  20 Autocorrelation:  0.24080426910080485 Autocovariance:  440.5145283230756\n",
      "Lag:  21 Autocorrelation:  0.22613348790844695 Autocovariance:  413.6765811337872\n",
      "Lag:  22 Autocorrelation:  0.2090658098070022 Autocovariance:  382.45387816218573\n",
      "Lag:  23 Autocorrelation:  0.19097549130091346 Autocovariance:  349.3604111996548\n",
      "Lag:  24 Autocorrelation:  0.17627909393741867 Autocovariance:  322.47560314868844\n",
      "Lag:  25 Autocorrelation:  0.16117054099225495 Autocovariance:  294.8368195875179\n",
      "Lag:  26 Autocorrelation:  0.14501161347064348 Autocovariance:  265.2765366159165\n"
     ]
    }
   ],
   "source": [
    "def find_lagx(array, x):\n",
    "    mean = np.mean(array)\n",
    "    diff_from_array = []\n",
    "    for i in range(0, 105):\n",
    "        diff_from_array.append(array[i] - mean)\n",
    "    temp = []\n",
    "    for i in range(0, x):\n",
    "        temp.append(np.nan)\n",
    "    for i in range(0, 105-x):\n",
    "        temp.append(price[i])\n",
    "    diff_from_temp = []\n",
    "    for i in range(0, 105):\n",
    "        diff_from_temp.append(temp[i] - mean)\n",
    "    product = []\n",
    "    for i in range(x, 105-x):\n",
    "        product.append(diff_from_array[i] * diff_from_temp[i])\n",
    "    autocorrelation = np.sum(product) / np.sum(np.square(diff_from_array))\n",
    "    autocovariance = np.sum(product) / 105\n",
    "    return autocorrelation, autocovariance\n",
    "\n",
    "lag = 26\n",
    "corr = []\n",
    "for i in range(1, lag + 1):\n",
    "    corr.append(find_lagx(price, i)[0])\n",
    "    print('Lag: ', i, 'Autocorrelation: ', find_lagx(price, i)[0],\n",
    "                      'Autocovariance: ', find_lagx(price, i)[1])\n",
    "\n"
   ]
  },
  {
   "cell_type": "code",
   "execution_count": 10,
   "id": "15e04822",
   "metadata": {},
   "outputs": [
    {
     "data": {
      "image/png": "[encoded data removed]",
      "text/plain": [
       "<Figure size 432x288 with 1 Axes>"
      ]
     },
     "metadata": {
      "needs_background": "light"
     },
     "output_type": "display_data"
    }
   ],
   "source": [
    "#plotting autocorrelation and lags \n",
    "import matplotlib.pyplot as plt\n",
    "plt.plot(corr)\n",
    "plt.xlabel('Lag')\n",
    "plt.ylabel('Autocorrelation')\n",
    "plt.title('Autocorrelation vs Lag')\n",
    "plt.show()"
   ]
  },
  {
   "cell_type": "markdown",
   "id": "b2079b2e",
   "metadata": {},
   "source": [
    "## Thank you "
   ]
  }
 ],
 "metadata": {
  "kernelspec": {
   "display_name": "Python 3 (ipykernel)",
   "language": "python",
   "name": "python3"
  },
  "language_info": {
   "codemirror_mode": {
    "name": "ipython",
    "version": 3
   },
   "file_extension": ".py",
   "mimetype": "text/x-python",
   "name": "python",
   "nbconvert_exporter": "python",
   "pygments_lexer": "ipython3",
   "version": "3.9.12"
  }
 },
 "nbformat": 4,
 "nbformat_minor": 5
}
