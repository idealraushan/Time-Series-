{
 "cells": [
  {
   "cell_type": "markdown",
   "id": "c2c118d6",
   "metadata": {},
   "source": [
    "Name :- Raushan kumar       \n",
    "Enroll no. :- 2021MSBDA033       \n",
    "Subject :- Time Series and Forecasting (CIA 2 , Assignment)"
   ]
  },
  {
   "cell_type": "markdown",
   "id": "8796cdc7",
   "metadata": {},
   "source": [
    "# Assignment  : 1"
   ]
  },
  {
   "cell_type": "markdown",
   "id": "cb5f4eec",
   "metadata": {},
   "source": [
    "## From table 1. calculate the following:-   \n",
    "1. Mean  \n",
    "2. Median  \n",
    "3. Mean absolute deviation   \n",
    "4. Mean squared deviation   \n",
    "5. Variance   \n",
    "6. Standard deviation   "
   ]
  },
  {
   "cell_type": "code",
   "execution_count": 1,
   "id": "2e664db2",
   "metadata": {},
   "outputs": [],
   "source": [
    "# import libraries\n",
    "import statistics \n",
    "import numpy as np\n",
    "import pandas as pd"
   ]
  },
  {
   "cell_type": "code",
   "execution_count": 2,
   "id": "1915d3ef",
   "metadata": {},
   "outputs": [
    {
     "data": {
      "text/html": [
       "<div>\n",
       "<style scoped>\n",
       "    .dataframe tbody tr th:only-of-type {\n",
       "        vertical-align: middle;\n",
       "    }\n",
       "\n",
       "    .dataframe tbody tr th {\n",
       "        vertical-align: top;\n",
       "    }\n",
       "\n",
       "    .dataframe thead th {\n",
       "        text-align: right;\n",
       "    }\n",
       "</style>\n",
       "<table border=\"1\" class=\"dataframe\">\n",
       "  <thead>\n",
       "    <tr style=\"text-align: right;\">\n",
       "      <th></th>\n",
       "      <th>mileage</th>\n",
       "    </tr>\n",
       "  </thead>\n",
       "  <tbody>\n",
       "    <tr>\n",
       "      <th>0</th>\n",
       "      <td>19</td>\n",
       "    </tr>\n",
       "    <tr>\n",
       "      <th>1</th>\n",
       "      <td>19</td>\n",
       "    </tr>\n",
       "    <tr>\n",
       "      <th>2</th>\n",
       "      <td>20</td>\n",
       "    </tr>\n",
       "    <tr>\n",
       "      <th>3</th>\n",
       "      <td>20</td>\n",
       "    </tr>\n",
       "    <tr>\n",
       "      <th>4</th>\n",
       "      <td>20</td>\n",
       "    </tr>\n",
       "    <tr>\n",
       "      <th>5</th>\n",
       "      <td>21</td>\n",
       "    </tr>\n",
       "    <tr>\n",
       "      <th>6</th>\n",
       "      <td>21</td>\n",
       "    </tr>\n",
       "    <tr>\n",
       "      <th>7</th>\n",
       "      <td>21</td>\n",
       "    </tr>\n",
       "    <tr>\n",
       "      <th>8</th>\n",
       "      <td>22</td>\n",
       "    </tr>\n",
       "    <tr>\n",
       "      <th>9</th>\n",
       "      <td>23</td>\n",
       "    </tr>\n",
       "    <tr>\n",
       "      <th>10</th>\n",
       "      <td>24</td>\n",
       "    </tr>\n",
       "    <tr>\n",
       "      <th>11</th>\n",
       "      <td>25</td>\n",
       "    </tr>\n",
       "    <tr>\n",
       "      <th>12</th>\n",
       "      <td>25</td>\n",
       "    </tr>\n",
       "    <tr>\n",
       "      <th>13</th>\n",
       "      <td>27</td>\n",
       "    </tr>\n",
       "    <tr>\n",
       "      <th>14</th>\n",
       "      <td>28</td>\n",
       "    </tr>\n",
       "    <tr>\n",
       "      <th>15</th>\n",
       "      <td>32</td>\n",
       "    </tr>\n",
       "    <tr>\n",
       "      <th>16</th>\n",
       "      <td>33</td>\n",
       "    </tr>\n",
       "    <tr>\n",
       "      <th>17</th>\n",
       "      <td>34</td>\n",
       "    </tr>\n",
       "    <tr>\n",
       "      <th>18</th>\n",
       "      <td>35</td>\n",
       "    </tr>\n",
       "  </tbody>\n",
       "</table>\n",
       "</div>"
      ],
      "text/plain": [
       "    mileage\n",
       "0        19\n",
       "1        19\n",
       "2        20\n",
       "3        20\n",
       "4        20\n",
       "5        21\n",
       "6        21\n",
       "7        21\n",
       "8        22\n",
       "9        23\n",
       "10       24\n",
       "11       25\n",
       "12       25\n",
       "13       27\n",
       "14       28\n",
       "15       32\n",
       "16       33\n",
       "17       34\n",
       "18       35"
      ]
     },
     "execution_count": 2,
     "metadata": {},
     "output_type": "execute_result"
    }
   ],
   "source": [
    "# import the dataset\n",
    "data = pd.DataFrame({'mileage':[19,19,20,20,20,21,21,21,22,23,24,25,25,27,28,32,33,34,35]})\n",
    "data"
   ]
  },
  {
   "cell_type": "markdown",
   "id": "a530074e",
   "metadata": {},
   "source": [
    "## 1. Mean"
   ]
  },
  {
   "cell_type": "code",
   "execution_count": 3,
   "id": "cc53d03a",
   "metadata": {},
   "outputs": [
    {
     "name": "stdout",
     "output_type": "stream",
     "text": [
      "Mean of mileage    24.684211\n",
      "dtype: float64\n"
     ]
    }
   ],
   "source": [
    "data1 = data[[\"mileage\"]].mean()\n",
    "print(\"Mean of\", data1)"
   ]
  },
  {
   "cell_type": "code",
   "execution_count": 4,
   "id": "1b9187dc",
   "metadata": {},
   "outputs": [
    {
     "name": "stdout",
     "output_type": "stream",
     "text": [
      "The mean of the mileage  is :-  24.68421052631579\n"
     ]
    }
   ],
   "source": [
    "def mean(num):\n",
    "    sumOfNumbers = 0\n",
    "    for i in num[\"mileage\"]:\n",
    "        sumOfNumbers = sumOfNumbers + i\n",
    "\n",
    "    average = sumOfNumbers / len(num[\"mileage\"])\n",
    "    return average\n",
    "\n",
    "\n",
    "print(\"The mean of the mileage  is :- \", mean(data))"
   ]
  },
  {
   "cell_type": "markdown",
   "id": "7c9b43dc",
   "metadata": {},
   "source": [
    "## 2. Median"
   ]
  },
  {
   "cell_type": "code",
   "execution_count": 5,
   "id": "22bb46d6",
   "metadata": {},
   "outputs": [
    {
     "name": "stdout",
     "output_type": "stream",
     "text": [
      "Median of mileage is :  23.0\n"
     ]
    }
   ],
   "source": [
    "from numpy import median\n",
    "print(\"Median of mileage is : \",median(data))"
   ]
  },
  {
   "cell_type": "code",
   "execution_count": 6,
   "id": "3c3d7df1",
   "metadata": {},
   "outputs": [
    {
     "name": "stdout",
     "output_type": "stream",
     "text": [
      "Median of the mileage is :  23\n"
     ]
    }
   ],
   "source": [
    "def median(x):\n",
    "    x = sorted(x)\n",
    "    listlength = len(x) \n",
    "    num = listlength//2\n",
    "    if listlength%2==0:\n",
    "        middlenum = (x[num]+x[num-1])/2\n",
    "    else:\n",
    "        middlenum = x[num]\n",
    "    return middlenum\n",
    "print(\"Median of the mileage is : \" ,median(data[\"mileage\"]))"
   ]
  },
  {
   "cell_type": "markdown",
   "id": "a7914d21",
   "metadata": {},
   "source": [
    "## 3. Mean absolute deviation"
   ]
  },
  {
   "cell_type": "code",
   "execution_count": 7,
   "id": "24a72acc",
   "metadata": {},
   "outputs": [
    {
     "data": {
      "text/plain": [
       "mileage    4.371191\n",
       "dtype: float64"
      ]
     },
     "execution_count": 7,
     "metadata": {},
     "output_type": "execute_result"
    }
   ],
   "source": [
    "data.mad()"
   ]
  },
  {
   "cell_type": "code",
   "execution_count": 8,
   "id": "6af23b1c",
   "metadata": {},
   "outputs": [
    {
     "name": "stdout",
     "output_type": "stream",
     "text": [
      "Mean absolute deviation of mileage is :  4.3711911357340725\n"
     ]
    }
   ],
   "source": [
    "def mad(data):\n",
    "    mean = np.mean(data)\n",
    "    f = lambda x: abs(x - mean)\n",
    "    vf = np.vectorize(f)\n",
    "    return (np.add.reduce(vf(data))) / len(data)\n",
    "print(\"Mean absolute deviation of mileage is : \",mad(data[\"mileage\"]))"
   ]
  },
  {
   "cell_type": "markdown",
   "id": "2fcb64d6",
   "metadata": {},
   "source": [
    "## 4.Mean squared deviation"
   ]
  },
  {
   "cell_type": "code",
   "execution_count": 9,
   "id": "733d23be",
   "metadata": {},
   "outputs": [],
   "source": [
    "def mean(num):\n",
    "    sumOfNumbers = 0\n",
    "    for i in num[\"mileage\"]:\n",
    "        sumOfNumbers = sumOfNumbers + i\n",
    "\n",
    "    mean = sumOfNumbers / len(num[\"mileage\"])\n",
    "    f = lambda x: abs(x - mean)\n",
    "    f.append(f**2)\n",
    "        \n",
    "    "
   ]
  },
  {
   "cell_type": "markdown",
   "id": "5e773278",
   "metadata": {},
   "source": [
    "## 5.Variance"
   ]
  },
  {
   "cell_type": "code",
   "execution_count": 10,
   "id": "79998074",
   "metadata": {},
   "outputs": [
    {
     "name": "stdout",
     "output_type": "stream",
     "text": [
      "Variance of the data is :  27.058171745152357\n"
     ]
    }
   ],
   "source": [
    "def variance(data):\n",
    "        n = len(data)\n",
    "        mean = sum(data) / n\n",
    "        deviations = [(x - mean) ** 2 for x in data]\n",
    "        variance = sum(deviations) / n\n",
    "        return variance\n",
    "print(\"Variance of the data is : \",variance(data[\"mileage\"]))"
   ]
  },
  {
   "cell_type": "markdown",
   "id": "029b251d",
   "metadata": {},
   "source": [
    "## 6.Standard deviation"
   ]
  },
  {
   "cell_type": "code",
   "execution_count": 11,
   "id": "6e3bc1e0",
   "metadata": {},
   "outputs": [
    {
     "data": {
      "text/plain": [
       "5.344286997230961"
      ]
     },
     "execution_count": 11,
     "metadata": {},
     "output_type": "execute_result"
    }
   ],
   "source": [
    "statistics.stdev(data[\"mileage\"])"
   ]
  },
  {
   "cell_type": "markdown",
   "id": "3f6b54a0",
   "metadata": {},
   "source": [
    "# Assignment :- 2"
   ]
  },
  {
   "cell_type": "markdown",
   "id": "abc304d1",
   "metadata": {},
   "source": [
    "From Table 2 calculate the following "
   ]
  },
  {
   "cell_type": "markdown",
   "id": "4ee70d4d",
   "metadata": {},
   "source": [
    "1. Mean mileage  \n",
    "2. mean price   \n",
    "3. Standard deviation of Mileage   \n",
    "4. Standard deviation of price\n",
    "5. Covariance between mileage and price\n",
    "6. Correlation between mileage and price"
   ]
  },
  {
   "cell_type": "code",
   "execution_count": 12,
   "id": "7f1c3fad",
   "metadata": {},
   "outputs": [
    {
     "data": {
      "text/html": [
       "<div>\n",
       "<style scoped>\n",
       "    .dataframe tbody tr th:only-of-type {\n",
       "        vertical-align: middle;\n",
       "    }\n",
       "\n",
       "    .dataframe tbody tr th {\n",
       "        vertical-align: top;\n",
       "    }\n",
       "\n",
       "    .dataframe thead th {\n",
       "        text-align: right;\n",
       "    }\n",
       "</style>\n",
       "<table border=\"1\" class=\"dataframe\">\n",
       "  <thead>\n",
       "    <tr style=\"text-align: right;\">\n",
       "      <th></th>\n",
       "      <th>mileage</th>\n",
       "      <th>price</th>\n",
       "    </tr>\n",
       "  </thead>\n",
       "  <tbody>\n",
       "    <tr>\n",
       "      <th>0</th>\n",
       "      <td>19</td>\n",
       "      <td>14.944</td>\n",
       "    </tr>\n",
       "    <tr>\n",
       "      <th>1</th>\n",
       "      <td>19</td>\n",
       "      <td>14.799</td>\n",
       "    </tr>\n",
       "    <tr>\n",
       "      <th>2</th>\n",
       "      <td>20</td>\n",
       "      <td>24.760</td>\n",
       "    </tr>\n",
       "    <tr>\n",
       "      <th>3</th>\n",
       "      <td>20</td>\n",
       "      <td>14.929</td>\n",
       "    </tr>\n",
       "    <tr>\n",
       "      <th>4</th>\n",
       "      <td>20</td>\n",
       "      <td>13.949</td>\n",
       "    </tr>\n",
       "    <tr>\n",
       "      <th>5</th>\n",
       "      <td>21</td>\n",
       "      <td>17.879</td>\n",
       "    </tr>\n",
       "    <tr>\n",
       "      <th>6</th>\n",
       "      <td>21</td>\n",
       "      <td>11.650</td>\n",
       "    </tr>\n",
       "    <tr>\n",
       "      <th>7</th>\n",
       "      <td>21</td>\n",
       "      <td>23.300</td>\n",
       "    </tr>\n",
       "    <tr>\n",
       "      <th>8</th>\n",
       "      <td>22</td>\n",
       "      <td>17.899</td>\n",
       "    </tr>\n",
       "    <tr>\n",
       "      <th>9</th>\n",
       "      <td>23</td>\n",
       "      <td>21.498</td>\n",
       "    </tr>\n",
       "    <tr>\n",
       "      <th>10</th>\n",
       "      <td>24</td>\n",
       "      <td>13.249</td>\n",
       "    </tr>\n",
       "    <tr>\n",
       "      <th>11</th>\n",
       "      <td>25</td>\n",
       "      <td>9.599</td>\n",
       "    </tr>\n",
       "    <tr>\n",
       "      <th>12</th>\n",
       "      <td>25</td>\n",
       "      <td>10.989</td>\n",
       "    </tr>\n",
       "    <tr>\n",
       "      <th>13</th>\n",
       "      <td>27</td>\n",
       "      <td>13.945</td>\n",
       "    </tr>\n",
       "    <tr>\n",
       "      <th>14</th>\n",
       "      <td>28</td>\n",
       "      <td>13.071</td>\n",
       "    </tr>\n",
       "    <tr>\n",
       "      <th>15</th>\n",
       "      <td>32</td>\n",
       "      <td>6.599</td>\n",
       "    </tr>\n",
       "    <tr>\n",
       "      <th>16</th>\n",
       "      <td>33</td>\n",
       "      <td>9.410</td>\n",
       "    </tr>\n",
       "    <tr>\n",
       "      <th>17</th>\n",
       "      <td>34</td>\n",
       "      <td>5.866</td>\n",
       "    </tr>\n",
       "    <tr>\n",
       "      <th>18</th>\n",
       "      <td>35</td>\n",
       "      <td>6.488</td>\n",
       "    </tr>\n",
       "  </tbody>\n",
       "</table>\n",
       "</div>"
      ],
      "text/plain": [
       "    mileage   price\n",
       "0        19  14.944\n",
       "1        19  14.799\n",
       "2        20  24.760\n",
       "3        20  14.929\n",
       "4        20  13.949\n",
       "5        21  17.879\n",
       "6        21  11.650\n",
       "7        21  23.300\n",
       "8        22  17.899\n",
       "9        23  21.498\n",
       "10       24  13.249\n",
       "11       25   9.599\n",
       "12       25  10.989\n",
       "13       27  13.945\n",
       "14       28  13.071\n",
       "15       32   6.599\n",
       "16       33   9.410\n",
       "17       34   5.866\n",
       "18       35   6.488"
      ]
     },
     "execution_count": 12,
     "metadata": {},
     "output_type": "execute_result"
    }
   ],
   "source": [
    "import numpy as np\n",
    "import pandas as pd\n",
    "data1 = {\n",
    "        \"mileage\" : [19,19,20,20,20,21,21,21,22,23,24,25,25,27,28,32,33,34,35],\n",
    "        \"price\" : [14.944,14.799,24.760,14.929,13.949,17.879,11.650,23.300,17.899,21.498,13.249,9.599,10.989,13.945,13.071,6.599,9.410,5.866,6.488]\n",
    "}\n",
    "data = pd.DataFrame(data1)\n",
    "data"
   ]
  },
  {
   "cell_type": "markdown",
   "id": "92e9bf10",
   "metadata": {},
   "source": [
    "## 1.  Mean mileage"
   ]
  },
  {
   "cell_type": "code",
   "execution_count": 13,
   "id": "8d61bbae",
   "metadata": {},
   "outputs": [
    {
     "name": "stdout",
     "output_type": "stream",
     "text": [
      "The mean of the mileage data is :-  24.68421052631579\n"
     ]
    }
   ],
   "source": [
    "def mean(num):\n",
    "    sumOfNumbers = 0\n",
    "    for i in num[\"mileage\"]:\n",
    "        sumOfNumbers = sumOfNumbers + i\n",
    "\n",
    "    average = sumOfNumbers / len(num[\"mileage\"])\n",
    "    return average\n",
    "\n",
    "\n",
    "print(\"The mean of the mileage data is :- \", mean(data))"
   ]
  },
  {
   "cell_type": "markdown",
   "id": "71615536",
   "metadata": {},
   "source": [
    "## 2. mean price "
   ]
  },
  {
   "cell_type": "code",
   "execution_count": 14,
   "id": "15d0f47f",
   "metadata": {},
   "outputs": [
    {
     "name": "stdout",
     "output_type": "stream",
     "text": [
      "The mean of the price data is :-  13.938052631578946\n"
     ]
    }
   ],
   "source": [
    "def mean(num):\n",
    "    sumOfNumbers = 0\n",
    "    for i in num[\"price\"]:\n",
    "        sumOfNumbers = sumOfNumbers + i\n",
    "\n",
    "    average = sumOfNumbers / len(num[\"price\"])\n",
    "    return average\n",
    "\n",
    "\n",
    "print(\"The mean of the price data is :- \", mean(data))"
   ]
  },
  {
   "cell_type": "markdown",
   "id": "5ba6f5e0",
   "metadata": {},
   "source": [
    "## 3. Standard deviation of Mileage"
   ]
  },
  {
   "cell_type": "code",
   "execution_count": 15,
   "id": "ccf7df30",
   "metadata": {},
   "outputs": [
    {
     "data": {
      "text/plain": [
       "5.344286997230961"
      ]
     },
     "execution_count": 15,
     "metadata": {},
     "output_type": "execute_result"
    }
   ],
   "source": [
    "statistics.stdev(data[\"mileage\"])"
   ]
  },
  {
   "cell_type": "markdown",
   "id": "c1ff97cf",
   "metadata": {},
   "source": [
    "## 4. Standard deviation of price "
   ]
  },
  {
   "cell_type": "code",
   "execution_count": 16,
   "id": "ac9f2e07",
   "metadata": {},
   "outputs": [
    {
     "data": {
      "text/plain": [
       "5.400006187997321"
      ]
     },
     "execution_count": 16,
     "metadata": {},
     "output_type": "execute_result"
    }
   ],
   "source": [
    "statistics.stdev(data[\"price\"])"
   ]
  },
  {
   "cell_type": "markdown",
   "id": "cf8e134c",
   "metadata": {},
   "source": [
    "## 5. Covariance between mileage and price "
   ]
  },
  {
   "cell_type": "code",
   "execution_count": 17,
   "id": "73a2c42e",
   "metadata": {},
   "outputs": [
    {
     "name": "stdout",
     "output_type": "stream",
     "text": [
      "Covariance between mileage and price is : -21.001538011695907\n"
     ]
    }
   ],
   "source": [
    "def covariance(x, y):\n",
    "    # Finding the mean of the series x and y\n",
    "    mean_x = sum(x)/float(len(x))\n",
    "    mean_y = sum(y)/float(len(y))\n",
    "    # Subtracting mean from the individual elements\n",
    "    sub_x = [i - mean_x for i in x]\n",
    "    sub_y = [i - mean_y for i in y]\n",
    "    numerator = sum([sub_x[i]*sub_y[i] for i in range(len(sub_x))])\n",
    "    denominator = len(x)-1\n",
    "    cov = numerator/denominator\n",
    "    return cov\n",
    "print(\"Covariance between mileage and price is :\",covariance(data[\"mileage\"],data[\"price\"]))"
   ]
  },
  {
   "cell_type": "code",
   "execution_count": 18,
   "id": "f66a4a87",
   "metadata": {},
   "outputs": [
    {
     "data": {
      "image/png": "[encoded data removed]",
      "text/plain": [
       "<Figure size 432x288 with 2 Axes>"
      ]
     },
     "metadata": {
      "needs_background": "light"
     },
     "output_type": "display_data"
    }
   ],
   "source": [
    "import seaborn as sns\n",
    "import matplotlib.pyplot as plt\n",
    "\n",
    "cov = np.cov(data, bias=True)\n",
    "labs = [\"mileage\",\"price\"]\n",
    "\n",
    "sns.heatmap(cov, annot=True, fmt='g', xticklabels=labs, yticklabels=labs)\n",
    "plt.show()"
   ]
  },
  {
   "cell_type": "markdown",
   "id": "094361f3",
   "metadata": {},
   "source": [
    "## 6. Correlation between mileage and price"
   ]
  },
  {
   "cell_type": "code",
   "execution_count": 19,
   "id": "f6b758a0",
   "metadata": {},
   "outputs": [
    {
     "data": {
      "text/html": [
       "<div>\n",
       "<style scoped>\n",
       "    .dataframe tbody tr th:only-of-type {\n",
       "        vertical-align: middle;\n",
       "    }\n",
       "\n",
       "    .dataframe tbody tr th {\n",
       "        vertical-align: top;\n",
       "    }\n",
       "\n",
       "    .dataframe thead th {\n",
       "        text-align: right;\n",
       "    }\n",
       "</style>\n",
       "<table border=\"1\" class=\"dataframe\">\n",
       "  <thead>\n",
       "    <tr style=\"text-align: right;\">\n",
       "      <th></th>\n",
       "      <th>mileage</th>\n",
       "      <th>price</th>\n",
       "    </tr>\n",
       "  </thead>\n",
       "  <tbody>\n",
       "    <tr>\n",
       "      <th>mileage</th>\n",
       "      <td>1.000000</td>\n",
       "      <td>-0.727725</td>\n",
       "    </tr>\n",
       "    <tr>\n",
       "      <th>price</th>\n",
       "      <td>-0.727725</td>\n",
       "      <td>1.000000</td>\n",
       "    </tr>\n",
       "  </tbody>\n",
       "</table>\n",
       "</div>"
      ],
      "text/plain": [
       "          mileage     price\n",
       "mileage  1.000000 -0.727725\n",
       "price   -0.727725  1.000000"
      ]
     },
     "execution_count": 19,
     "metadata": {},
     "output_type": "execute_result"
    }
   ],
   "source": [
    "data.corr()"
   ]
  },
  {
   "cell_type": "markdown",
   "id": "fdf19c4e",
   "metadata": {},
   "source": [
    "# Assignment :- 3"
   ]
  },
  {
   "cell_type": "markdown",
   "id": "fbe0f8c4",
   "metadata": {},
   "source": [
    "From Table 3 calculate the following"
   ]
  },
  {
   "cell_type": "markdown",
   "id": "512eb037",
   "metadata": {},
   "source": [
    "1. Mean error  \n",
    "2. Mean absolute error  \n",
    "3. Mean squared error "
   ]
  },
  {
   "cell_type": "code",
   "execution_count": 42,
   "id": "9bb04434",
   "metadata": {},
   "outputs": [
    {
     "data": {
      "text/html": [
       "<div>\n",
       "<style scoped>\n",
       "    .dataframe tbody tr th:only-of-type {\n",
       "        vertical-align: middle;\n",
       "    }\n",
       "\n",
       "    .dataframe tbody tr th {\n",
       "        vertical-align: top;\n",
       "    }\n",
       "\n",
       "    .dataframe thead th {\n",
       "        text-align: right;\n",
       "    }\n",
       "</style>\n",
       "<table border=\"1\" class=\"dataframe\">\n",
       "  <thead>\n",
       "    <tr style=\"text-align: right;\">\n",
       "      <th></th>\n",
       "      <th>yt</th>\n",
       "      <th>ft</th>\n",
       "    </tr>\n",
       "  </thead>\n",
       "  <tbody>\n",
       "    <tr>\n",
       "      <th>0</th>\n",
       "      <td>138</td>\n",
       "      <td>150.25</td>\n",
       "    </tr>\n",
       "    <tr>\n",
       "      <th>1</th>\n",
       "      <td>136</td>\n",
       "      <td>139.50</td>\n",
       "    </tr>\n",
       "    <tr>\n",
       "      <th>2</th>\n",
       "      <td>152</td>\n",
       "      <td>157.25</td>\n",
       "    </tr>\n",
       "    <tr>\n",
       "      <th>3</th>\n",
       "      <td>127</td>\n",
       "      <td>143.50</td>\n",
       "    </tr>\n",
       "    <tr>\n",
       "      <th>4</th>\n",
       "      <td>151</td>\n",
       "      <td>138.00</td>\n",
       "    </tr>\n",
       "    <tr>\n",
       "      <th>5</th>\n",
       "      <td>130</td>\n",
       "      <td>127.50</td>\n",
       "    </tr>\n",
       "    <tr>\n",
       "      <th>6</th>\n",
       "      <td>119</td>\n",
       "      <td>138.25</td>\n",
       "    </tr>\n",
       "    <tr>\n",
       "      <th>7</th>\n",
       "      <td>153</td>\n",
       "      <td>141.50</td>\n",
       "    </tr>\n",
       "  </tbody>\n",
       "</table>\n",
       "</div>"
      ],
      "text/plain": [
       "    yt      ft\n",
       "0  138  150.25\n",
       "1  136  139.50\n",
       "2  152  157.25\n",
       "3  127  143.50\n",
       "4  151  138.00\n",
       "5  130  127.50\n",
       "6  119  138.25\n",
       "7  153  141.50"
      ]
     },
     "execution_count": 42,
     "metadata": {},
     "output_type": "execute_result"
    }
   ],
   "source": [
    "data3 = {\"yt\":[138,136,152,127,151,130,119,153],\n",
    "       \"ft\":[150.25,139.50,157.25,143.50,138,127.50,138.25,141.50]}\n",
    "data = pd.DataFrame(data3)\n",
    "data\n"
   ]
  },
  {
   "cell_type": "markdown",
   "id": "f18de210",
   "metadata": {},
   "source": [
    "### 1. Mean error"
   ]
  },
  {
   "cell_type": "code",
   "execution_count": 56,
   "id": "be7e7ef5",
   "metadata": {},
   "outputs": [
    {
     "data": {
      "text/plain": [
       "-5.892857142857143"
      ]
     },
     "execution_count": 56,
     "metadata": {},
     "output_type": "execute_result"
    }
   ],
   "source": [
    "yt = list(data[\"yt\"])\n",
    "ft = list(data[\"ft\"])\n",
    "n = 7\n",
    "sum = 0\n",
    "for i in range(n):\n",
    "    sum += (yt[i] - ft[i])\n",
    "error = sum/n\n",
    "error\n"
   ]
  },
  {
   "cell_type": "markdown",
   "id": "8d175e9c",
   "metadata": {},
   "source": [
    "### 2. Mean absolute error"
   ]
  },
  {
   "cell_type": "code",
   "execution_count": 54,
   "id": "d464ea43",
   "metadata": {},
   "outputs": [
    {
     "name": "stdout",
     "output_type": "stream",
     "text": [
      "Mean absolute error : 10.321428571428571\n"
     ]
    }
   ],
   "source": [
    "yt = list(data[\"yt\"])\n",
    "ft = list(data[\"ft\"])\n",
    "n = 7\n",
    "sum = 0\n",
    "  \n",
    "# for loop for iteration\n",
    "for i in range(n):\n",
    "    sum += abs(yt[i] - ft[i])\n",
    "error = sum/n\n",
    "print(\"Mean absolute error : \" + str(error))"
   ]
  },
  {
   "cell_type": "markdown",
   "id": "cc67bb06",
   "metadata": {},
   "source": [
    "### 3.  Mean squared error"
   ]
  },
  {
   "cell_type": "code",
   "execution_count": 62,
   "id": "55136df5",
   "metadata": {},
   "outputs": [
    {
     "data": {
      "text/plain": [
       "142.5234375"
      ]
     },
     "execution_count": 62,
     "metadata": {},
     "output_type": "execute_result"
    }
   ],
   "source": [
    "def mse(yt,ft):\n",
    "    actual = np.array(yt)\n",
    "    predicted = np.array(ft)\n",
    "    differences = np.subtract(yt, ft)\n",
    "    squared_differences = np.square(differences)\n",
    "    return squared_differences.mean()\n",
    "mse(yt,ft)"
   ]
  },
  {
   "cell_type": "markdown",
   "id": "5c04e82d",
   "metadata": {},
   "source": [
    "# Assignment :- 4"
   ]
  },
  {
   "cell_type": "markdown",
   "id": "98b32130",
   "metadata": {},
   "source": [
    "### Conside the sampe dataset , calculate the 3MA and 5MA.Plot compare the original sample with 3MA and 5MA values."
   ]
  },
  {
   "cell_type": "code",
   "execution_count": 22,
   "id": "71f3fe5f",
   "metadata": {},
   "outputs": [
    {
     "data": {
      "text/html": [
       "<div>\n",
       "<style scoped>\n",
       "    .dataframe tbody tr th:only-of-type {\n",
       "        vertical-align: middle;\n",
       "    }\n",
       "\n",
       "    .dataframe tbody tr th {\n",
       "        vertical-align: top;\n",
       "    }\n",
       "\n",
       "    .dataframe thead th {\n",
       "        text-align: right;\n",
       "    }\n",
       "</style>\n",
       "<table border=\"1\" class=\"dataframe\">\n",
       "  <thead>\n",
       "    <tr style=\"text-align: right;\">\n",
       "      <th></th>\n",
       "      <th>Months</th>\n",
       "      <th>Observed</th>\n",
       "    </tr>\n",
       "  </thead>\n",
       "  <tbody>\n",
       "    <tr>\n",
       "      <th>0</th>\n",
       "      <td>Jan</td>\n",
       "      <td>266.0</td>\n",
       "    </tr>\n",
       "    <tr>\n",
       "      <th>1</th>\n",
       "      <td>Feb</td>\n",
       "      <td>145.9</td>\n",
       "    </tr>\n",
       "    <tr>\n",
       "      <th>2</th>\n",
       "      <td>Mar</td>\n",
       "      <td>183.1</td>\n",
       "    </tr>\n",
       "    <tr>\n",
       "      <th>3</th>\n",
       "      <td>Apr</td>\n",
       "      <td>119.3</td>\n",
       "    </tr>\n",
       "    <tr>\n",
       "      <th>4</th>\n",
       "      <td>May</td>\n",
       "      <td>180.3</td>\n",
       "    </tr>\n",
       "    <tr>\n",
       "      <th>5</th>\n",
       "      <td>Jun</td>\n",
       "      <td>168.5</td>\n",
       "    </tr>\n",
       "    <tr>\n",
       "      <th>6</th>\n",
       "      <td>Jul</td>\n",
       "      <td>231.8</td>\n",
       "    </tr>\n",
       "    <tr>\n",
       "      <th>7</th>\n",
       "      <td>Aug</td>\n",
       "      <td>224.5</td>\n",
       "    </tr>\n",
       "    <tr>\n",
       "      <th>8</th>\n",
       "      <td>Sep</td>\n",
       "      <td>192.8</td>\n",
       "    </tr>\n",
       "    <tr>\n",
       "      <th>9</th>\n",
       "      <td>Oct</td>\n",
       "      <td>122.9</td>\n",
       "    </tr>\n",
       "    <tr>\n",
       "      <th>10</th>\n",
       "      <td>Nov</td>\n",
       "      <td>336.5</td>\n",
       "    </tr>\n",
       "    <tr>\n",
       "      <th>11</th>\n",
       "      <td>Dec</td>\n",
       "      <td>185.9</td>\n",
       "    </tr>\n",
       "  </tbody>\n",
       "</table>\n",
       "</div>"
      ],
      "text/plain": [
       "   Months  Observed\n",
       "0     Jan     266.0\n",
       "1     Feb     145.9\n",
       "2     Mar     183.1\n",
       "3     Apr     119.3\n",
       "4     May     180.3\n",
       "5     Jun     168.5\n",
       "6     Jul     231.8\n",
       "7     Aug     224.5\n",
       "8     Sep     192.8\n",
       "9     Oct     122.9\n",
       "10    Nov     336.5\n",
       "11    Dec     185.9"
      ]
     },
     "execution_count": 22,
     "metadata": {},
     "output_type": "execute_result"
    }
   ],
   "source": [
    "import numpy as np\n",
    "import pandas as pd\n",
    "data2 = { \"Months\" : [\"Jan\",\"Feb\",\"Mar\",\"Apr\",\"May\",\"Jun\",\"Jul\",\"Aug\",\"Sep\",\"Oct\",\"Nov\",\"Dec\"],\n",
    "         \"Observed\": [266.0,145.9,183.1,119.3,180.3,168.5,231.8,224.5,192.8,122.9,336.5,185.9]\n",
    "}\n",
    "data = pd.DataFrame(data2)\n",
    "data"
   ]
  },
  {
   "cell_type": "markdown",
   "id": "00ed4fce",
   "metadata": {},
   "source": [
    "### Calculate the 3MA value "
   ]
  },
  {
   "cell_type": "code",
   "execution_count": 29,
   "id": "fdac4811",
   "metadata": {},
   "outputs": [
    {
     "name": "stdout",
     "output_type": "stream",
     "text": [
      "[198.33333333333334, 149.43333333333334, 160.9, 156.03333333333333, 193.53333333333333, 208.26666666666665, 216.36666666666667, 180.0666666666667, 217.4, 215.10000000000002]\n"
     ]
    }
   ],
   "source": [
    "import pandas as pd\n",
    "data3 = data[\"Observed\"]\n",
    "\n",
    "window_size = 3\n",
    "  \n",
    "# Convert array of integers to pandas series\n",
    "numbers_series = pd.Series(data3)\n",
    "  \n",
    "# Get the window of series\n",
    "# of observations of specified window size\n",
    "windows = numbers_series.rolling(window_size)\n",
    "  \n",
    "# Create a series of moving\n",
    "# averages of each window\n",
    "moving_averages = windows.mean()\n",
    "  \n",
    "# Convert pandas series back to list\n",
    "moving_averages_list = moving_averages.tolist()\n",
    "  \n",
    "# Remove null entries from the list\n",
    "final_list = moving_averages_list[window_size - 1:]\n",
    "  \n",
    "print(final_list)"
   ]
  },
  {
   "cell_type": "markdown",
   "id": "b7965058",
   "metadata": {},
   "source": [
    "### Calculate the 5MA value "
   ]
  },
  {
   "cell_type": "code",
   "execution_count": 30,
   "id": "4b210277",
   "metadata": {},
   "outputs": [
    {
     "name": "stdout",
     "output_type": "stream",
     "text": [
      "[178.92000000000002, 159.42000000000002, 176.6, 184.88000000000002, 199.58, 188.1, 221.7, 212.52000000000004]\n"
     ]
    }
   ],
   "source": [
    "import pandas as pd\n",
    "data3 = data[\"Observed\"]\n",
    "\n",
    "window_size = 5\n",
    "  \n",
    "# Convert array of integers to pandas series\n",
    "numbers_series = pd.Series(data3)\n",
    "  \n",
    "# Get the window of series\n",
    "# of observations of specified window size\n",
    "windows = numbers_series.rolling(window_size)\n",
    "  \n",
    "# Create a series of moving\n",
    "# averages of each window\n",
    "moving_averages = windows.mean()\n",
    "  \n",
    "# Convert pandas series back to list\n",
    "moving_averages_list = moving_averages.tolist()\n",
    "  \n",
    "# Remove null entries from the list\n",
    "final_list = moving_averages_list[window_size - 1:]\n",
    "  \n",
    "print(final_list)"
   ]
  },
  {
   "cell_type": "markdown",
   "id": "01cd9818",
   "metadata": {},
   "source": [
    "## Revised table after calculating 3MA and 5MA"
   ]
  },
  {
   "cell_type": "code",
   "execution_count": 31,
   "id": "7a521c0d",
   "metadata": {},
   "outputs": [
    {
     "data": {
      "text/html": [
       "<div>\n",
       "<style scoped>\n",
       "    .dataframe tbody tr th:only-of-type {\n",
       "        vertical-align: middle;\n",
       "    }\n",
       "\n",
       "    .dataframe tbody tr th {\n",
       "        vertical-align: top;\n",
       "    }\n",
       "\n",
       "    .dataframe thead th {\n",
       "        text-align: right;\n",
       "    }\n",
       "</style>\n",
       "<table border=\"1\" class=\"dataframe\">\n",
       "  <thead>\n",
       "    <tr style=\"text-align: right;\">\n",
       "      <th></th>\n",
       "      <th>Months</th>\n",
       "      <th>Observed</th>\n",
       "      <th>3MA</th>\n",
       "      <th>5MA</th>\n",
       "    </tr>\n",
       "  </thead>\n",
       "  <tbody>\n",
       "    <tr>\n",
       "      <th>0</th>\n",
       "      <td>Jan</td>\n",
       "      <td>266.0</td>\n",
       "      <td>NaN</td>\n",
       "      <td>NaN</td>\n",
       "    </tr>\n",
       "    <tr>\n",
       "      <th>1</th>\n",
       "      <td>Feb</td>\n",
       "      <td>145.9</td>\n",
       "      <td>198.33</td>\n",
       "      <td>NaN</td>\n",
       "    </tr>\n",
       "    <tr>\n",
       "      <th>2</th>\n",
       "      <td>Mar</td>\n",
       "      <td>183.1</td>\n",
       "      <td>149.43</td>\n",
       "      <td>178.92</td>\n",
       "    </tr>\n",
       "    <tr>\n",
       "      <th>3</th>\n",
       "      <td>Apr</td>\n",
       "      <td>119.3</td>\n",
       "      <td>160.90</td>\n",
       "      <td>159.42</td>\n",
       "    </tr>\n",
       "    <tr>\n",
       "      <th>4</th>\n",
       "      <td>May</td>\n",
       "      <td>180.3</td>\n",
       "      <td>156.03</td>\n",
       "      <td>176.60</td>\n",
       "    </tr>\n",
       "    <tr>\n",
       "      <th>5</th>\n",
       "      <td>Jun</td>\n",
       "      <td>168.5</td>\n",
       "      <td>193.53</td>\n",
       "      <td>184.88</td>\n",
       "    </tr>\n",
       "    <tr>\n",
       "      <th>6</th>\n",
       "      <td>Jul</td>\n",
       "      <td>231.8</td>\n",
       "      <td>208.27</td>\n",
       "      <td>199.58</td>\n",
       "    </tr>\n",
       "    <tr>\n",
       "      <th>7</th>\n",
       "      <td>Aug</td>\n",
       "      <td>224.5</td>\n",
       "      <td>216.37</td>\n",
       "      <td>188.10</td>\n",
       "    </tr>\n",
       "    <tr>\n",
       "      <th>8</th>\n",
       "      <td>Sep</td>\n",
       "      <td>192.8</td>\n",
       "      <td>180.07</td>\n",
       "      <td>221.70</td>\n",
       "    </tr>\n",
       "    <tr>\n",
       "      <th>9</th>\n",
       "      <td>Oct</td>\n",
       "      <td>122.9</td>\n",
       "      <td>217.40</td>\n",
       "      <td>212.52</td>\n",
       "    </tr>\n",
       "    <tr>\n",
       "      <th>10</th>\n",
       "      <td>Nov</td>\n",
       "      <td>336.5</td>\n",
       "      <td>215.10</td>\n",
       "      <td>NaN</td>\n",
       "    </tr>\n",
       "    <tr>\n",
       "      <th>11</th>\n",
       "      <td>Dec</td>\n",
       "      <td>185.9</td>\n",
       "      <td>NaN</td>\n",
       "      <td>NaN</td>\n",
       "    </tr>\n",
       "  </tbody>\n",
       "</table>\n",
       "</div>"
      ],
      "text/plain": [
       "   Months  Observed     3MA     5MA\n",
       "0     Jan     266.0     NaN     NaN\n",
       "1     Feb     145.9  198.33     NaN\n",
       "2     Mar     183.1  149.43  178.92\n",
       "3     Apr     119.3  160.90  159.42\n",
       "4     May     180.3  156.03  176.60\n",
       "5     Jun     168.5  193.53  184.88\n",
       "6     Jul     231.8  208.27  199.58\n",
       "7     Aug     224.5  216.37  188.10\n",
       "8     Sep     192.8  180.07  221.70\n",
       "9     Oct     122.9  217.40  212.52\n",
       "10    Nov     336.5  215.10     NaN\n",
       "11    Dec     185.9     NaN     NaN"
      ]
     },
     "execution_count": 31,
     "metadata": {},
     "output_type": "execute_result"
    }
   ],
   "source": [
    "data4 = { \"Months\" : [\"Jan\",\"Feb\",\"Mar\",\"Apr\",\"May\",\"Jun\",\"Jul\",\"Aug\",\"Sep\",\"Oct\",\"Nov\",\"Dec\"],\n",
    "         \"Observed\": [266.0,145.9,183.1,119.3,180.3,168.5,231.8,224.5,192.8,122.9,336.5,185.9],\n",
    "        \"3MA\": [None,198.33, 149.43, 160.9, 156.03, 193.53, 208.27, 216.37, 180.07, 217.4, 215.1,None],\n",
    "        \"5MA\" : [None,None,178.92, 159.42, 176.6, 184.88, 199.58, 188.1, 221.7, 212.52,None,None]\n",
    "       }\n",
    "data = pd.DataFrame(data4)\n",
    "data"
   ]
  },
  {
   "cell_type": "markdown",
   "id": "49728268",
   "metadata": {},
   "source": [
    "# Plot compare the original sample with 3MA and 5MA values. "
   ]
  },
  {
   "cell_type": "code",
   "execution_count": 32,
   "id": "3a3f3690",
   "metadata": {},
   "outputs": [
    {
     "data": {
      "image/png": "[encoded data removed]",
      "text/plain": [
       "<Figure size 1440x720 with 1 Axes>"
      ]
     },
     "metadata": {
      "needs_background": "light"
     },
     "output_type": "display_data"
    }
   ],
   "source": [
    "import matplotlib.pyplot as plt\n",
    "import numpy as np\n",
    "plt.figure(figsize=(20, 10))\n",
    "plt.title('compare of original sample with 3MA and 5MA Values',size = 30)\n",
    "x = data['Months']\n",
    "y1 = data[\"Observed\"]\n",
    "y2 = data['3MA']\n",
    "y3 = data['5MA']\n",
    "plt.xlabel('Months', size=15)\n",
    "plt.ylabel('Values', size=15)\n",
    "plt.plot(x, y1,label = \"Original_Sample\",linestyle=\"solid\")\n",
    "plt.plot(x, y2,label = \"3MA\",linestyle=\"dotted\")\n",
    "plt.plot(x, y3,label = \"5MA\",linestyle=\"-.\")\n",
    "plt.legend()\n",
    "plt.show()"
   ]
  },
  {
   "cell_type": "markdown",
   "id": "a1fc6150",
   "metadata": {},
   "source": [
    "## Thank you "
   ]
  }
 ],
 "metadata": {
  "kernelspec": {
   "display_name": "Python 3 (ipykernel)",
   "language": "python",
   "name": "python3"
  },
  "language_info": {
   "codemirror_mode": {
    "name": "ipython",
    "version": 3
   },
   "file_extension": ".py",
   "mimetype": "text/x-python",
   "name": "python",
   "nbconvert_exporter": "python",
   "pygments_lexer": "ipython3",
   "version": "3.9.12"
  }
 },
 "nbformat": 4,
 "nbformat_minor": 5
}
